{
 "cells": [
  {
   "cell_type": "code",
   "execution_count": 1,
   "id": "initial_id",
   "metadata": {
    "collapsed": true,
    "ExecuteTime": {
     "end_time": "2024-04-01T18:56:49.628439Z",
     "start_time": "2024-04-01T18:56:49.622930Z"
    }
   },
   "outputs": [
    {
     "name": "stdout",
     "output_type": "stream",
     "text": [
      "Hello, World\n"
     ]
    }
   ],
   "source": [
    "print(\"Hello, World\")"
   ]
  },
  {
   "cell_type": "code",
   "outputs": [],
   "source": [
    "name: str = \"Noelle\""
   ],
   "metadata": {
    "collapsed": false,
    "ExecuteTime": {
     "end_time": "2024-04-01T18:58:34.823455Z",
     "start_time": "2024-04-01T18:58:34.820270Z"
    }
   },
   "id": "2aeff9511b6245f8",
   "execution_count": 2
  },
  {
   "cell_type": "code",
   "outputs": [
    {
     "name": "stdout",
     "output_type": "stream",
     "text": [
      "Hello, Noelle\n"
     ]
    }
   ],
   "source": [
    "print(\"Hello,\", name)"
   ],
   "metadata": {
    "collapsed": false,
    "ExecuteTime": {
     "end_time": "2024-04-01T18:59:07.798199Z",
     "start_time": "2024-04-01T18:59:07.793755Z"
    }
   },
   "id": "f7fe924cc256707f",
   "execution_count": 4
  },
  {
   "cell_type": "code",
   "outputs": [
    {
     "name": "stdout",
     "output_type": "stream",
     "text": [
      "Hello, Noelle\n"
     ]
    }
   ],
   "source": [
    "print(\"Hello, \" + name)"
   ],
   "metadata": {
    "collapsed": false,
    "ExecuteTime": {
     "end_time": "2024-04-01T18:59:32.051830Z",
     "start_time": "2024-04-01T18:59:32.047870Z"
    }
   },
   "id": "5b56b5acd9542f0c",
   "execution_count": 6
  },
  {
   "cell_type": "code",
   "outputs": [],
   "source": [
    "name: int = 42"
   ],
   "metadata": {
    "collapsed": false,
    "ExecuteTime": {
     "end_time": "2024-04-01T19:00:26.979961Z",
     "start_time": "2024-04-01T19:00:26.977303Z"
    }
   },
   "id": "3a2fcc28a21fc92d",
   "execution_count": 7
  },
  {
   "cell_type": "code",
   "outputs": [
    {
     "name": "stdout",
     "output_type": "stream",
     "text": [
      "Hello,  42\n"
     ]
    }
   ],
   "source": [
    "print(\"Hello, \", name)"
   ],
   "metadata": {
    "collapsed": false,
    "ExecuteTime": {
     "end_time": "2024-04-01T19:00:48.945007Z",
     "start_time": "2024-04-01T19:00:48.940320Z"
    }
   },
   "id": "a4c9e6ef6e63382",
   "execution_count": 9
  },
  {
   "cell_type": "code",
   "outputs": [
    {
     "name": "stdout",
     "output_type": "stream",
     "text": [
      "sorry, that won't work!\n"
     ]
    }
   ],
   "source": [
    "try:\n",
    "    print(\"Hello, \" + name)\n",
    "except TypeError:\n",
    "    print(\"sorry, that won't work!\")"
   ],
   "metadata": {
    "collapsed": false,
    "ExecuteTime": {
     "end_time": "2024-04-01T19:03:22.572420Z",
     "start_time": "2024-04-01T19:03:22.569778Z"
    }
   },
   "id": "7cf4bb09ef30dd54",
   "execution_count": 12
  },
  {
   "cell_type": "code",
   "outputs": [],
   "source": [
    "fave_food1: str = 'sushi'\n",
    "fave_food2: str = 'pizza'"
   ],
   "metadata": {
    "collapsed": false,
    "ExecuteTime": {
     "end_time": "2024-04-01T19:11:00.188449Z",
     "start_time": "2024-04-01T19:11:00.184122Z"
    }
   },
   "id": "9d55e1085706347e",
   "execution_count": 13
  },
  {
   "cell_type": "code",
   "outputs": [
    {
     "name": "stdout",
     "output_type": "stream",
     "text": [
      "I love to eat sushi and pizza.\n",
      "I love to eat sushi and pizza.\n",
      "I love to eat sushi and pizza.\n"
     ]
    }
   ],
   "source": [
    "print(f\"I love to eat {fave_food1} and {fave_food2}.\")\n",
    "print(\"I love to eat {} and {}.\".format(fave_food1, fave_food2))\n",
    "print(\"I love to eat %s and %s.\" % (fave_food1, fave_food2))"
   ],
   "metadata": {
    "collapsed": false,
    "ExecuteTime": {
     "end_time": "2024-04-01T19:14:59.933134Z",
     "start_time": "2024-04-01T19:14:59.929791Z"
    }
   },
   "id": "5ca688dd341baee0",
   "execution_count": 17
  },
  {
   "cell_type": "code",
   "outputs": [],
   "source": [],
   "metadata": {
    "collapsed": false
   },
   "id": "15a559fea48ecb65"
  }
 ],
 "metadata": {
  "kernelspec": {
   "display_name": "Python 3",
   "language": "python",
   "name": "python3"
  },
  "language_info": {
   "codemirror_mode": {
    "name": "ipython",
    "version": 2
   },
   "file_extension": ".py",
   "mimetype": "text/x-python",
   "name": "python",
   "nbconvert_exporter": "python",
   "pygments_lexer": "ipython2",
   "version": "2.7.6"
  }
 },
 "nbformat": 4,
 "nbformat_minor": 5
}
